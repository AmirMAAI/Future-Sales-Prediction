{
 "cells": [
  {
   "cell_type": "code",
   "execution_count": 1,
   "id": "6564dcbc",
   "metadata": {
    "_cell_guid": "b1076dfc-b9ad-4769-8c92-a6c4dae69d19",
    "_uuid": "8f2839f25d086af736a60e9eeb907d3b93b6e0e5",
    "execution": {
     "iopub.execute_input": "2022-05-31T14:32:58.308345Z",
     "iopub.status.busy": "2022-05-31T14:32:58.307675Z",
     "iopub.status.idle": "2022-05-31T14:32:58.318718Z",
     "shell.execute_reply": "2022-05-31T14:32:58.318028Z"
    },
    "papermill": {
     "duration": 0.024496,
     "end_time": "2022-05-31T14:32:58.320945",
     "exception": false,
     "start_time": "2022-05-31T14:32:58.296449",
     "status": "completed"
    },
    "tags": []
   },
   "outputs": [
    {
     "name": "stdout",
     "output_type": "stream",
     "text": [
      "/kaggle/input/competitive-data-science-predict-future-sales/items.csv\n",
      "/kaggle/input/competitive-data-science-predict-future-sales/sample_submission.csv\n",
      "/kaggle/input/competitive-data-science-predict-future-sales/item_categories.csv\n",
      "/kaggle/input/competitive-data-science-predict-future-sales/sales_train.csv\n",
      "/kaggle/input/competitive-data-science-predict-future-sales/shops.csv\n",
      "/kaggle/input/competitive-data-science-predict-future-sales/test.csv\n"
     ]
    }
   ],
   "source": [
    "# This Python 3 environment comes with many helpful analytics libraries installed\n",
    "# It is defined by the kaggle/python Docker image: https://github.com/kaggle/docker-python\n",
    "# For example, here's several helpful packages to load\n",
    "\n",
    "import numpy as np # linear algebra\n",
    "import pandas as pd # data processing, CSV file I/O (e.g. pd.read_csv)\n",
    "\n",
    "# Input data files are available in the read-only \"../input/\" directory\n",
    "# For example, running this (by clicking run or pressing Shift+Enter) will list all files under the input directory\n",
    "\n",
    "import os\n",
    "for dirname, _, filenames in os.walk('/kaggle/input'):\n",
    "    for filename in filenames:\n",
    "        print(os.path.join(dirname, filename))\n",
    "\n",
    "# You can write up to 20GB to the current directory (/kaggle/working/) that gets preserved as output when you create a version using \"Save & Run All\" \n",
    "# You can also write temporary files to /kaggle/temp/, but they won't be saved outside of the current session"
   ]
  },
  {
   "cell_type": "markdown",
   "id": "c6f5e375",
   "metadata": {
    "papermill": {
     "duration": 0.006297,
     "end_time": "2022-05-31T14:32:58.335311",
     "exception": false,
     "start_time": "2022-05-31T14:32:58.329014",
     "status": "completed"
    },
    "tags": []
   },
   "source": [
    "<a id=\"1\"></a> <br>\n",
    "# 1. Import Necessary Libraries"
   ]
  },
  {
   "cell_type": "code",
   "execution_count": 2,
   "id": "f58adb4e",
   "metadata": {
    "execution": {
     "iopub.execute_input": "2022-05-31T14:32:58.352886Z",
     "iopub.status.busy": "2022-05-31T14:32:58.352331Z",
     "iopub.status.idle": "2022-05-31T14:32:59.781033Z",
     "shell.execute_reply": "2022-05-31T14:32:59.780208Z"
    },
    "papermill": {
     "duration": 1.43883,
     "end_time": "2022-05-31T14:32:59.783187",
     "exception": false,
     "start_time": "2022-05-31T14:32:58.344357",
     "status": "completed"
    },
    "tags": []
   },
   "outputs": [],
   "source": [
    "import pandas as pd\n",
    "import numpy as np\n",
    "import matplotlib.pyplot as plt\n",
    "import seaborn as sns\n",
    "import warnings\n",
    "warnings.filterwarnings(\"ignore\")\n",
    "from sklearn.linear_model import LinearRegression\n",
    "from sklearn.linear_model import Ridge\n",
    "from sklearn.linear_model import Lasso\n",
    "from sklearn.pipeline import Pipeline\n",
    "from sklearn.metrics import mean_squared_error\n",
    "from sklearn.model_selection import cross_val_score , StratifiedKFold"
   ]
  },
  {
   "cell_type": "markdown",
   "id": "dcbc28b0",
   "metadata": {
    "papermill": {
     "duration": 0.006082,
     "end_time": "2022-05-31T14:32:59.795345",
     "exception": false,
     "start_time": "2022-05-31T14:32:59.789263",
     "status": "completed"
    },
    "tags": []
   },
   "source": [
    "<a id=\"1\"></a> <br>\n",
    "# 2. Import Dataset"
   ]
  },
  {
   "cell_type": "code",
   "execution_count": 3,
   "id": "76d16d73",
   "metadata": {
    "execution": {
     "iopub.execute_input": "2022-05-31T14:32:59.809201Z",
     "iopub.status.busy": "2022-05-31T14:32:59.808582Z",
     "iopub.status.idle": "2022-05-31T14:33:02.344306Z",
     "shell.execute_reply": "2022-05-31T14:33:02.343356Z"
    },
    "papermill": {
     "duration": 2.545312,
     "end_time": "2022-05-31T14:33:02.346800",
     "exception": false,
     "start_time": "2022-05-31T14:32:59.801488",
     "status": "completed"
    },
    "tags": []
   },
   "outputs": [],
   "source": [
    "df_train = pd.read_csv('/kaggle/input/competitive-data-science-predict-future-sales/sales_train.csv')\n",
    "df_test = pd.read_csv('/kaggle/input/competitive-data-science-predict-future-sales/test.csv')\n",
    "df_items = pd.read_csv('/kaggle/input/competitive-data-science-predict-future-sales/items.csv')\n",
    "df_shops = pd.read_csv('/kaggle/input/competitive-data-science-predict-future-sales/shops.csv')\n",
    "df_item_categories = pd.read_csv('/kaggle/input/competitive-data-science-predict-future-sales/item_categories.csv')\n",
    "df_sub = pd.read_csv('/kaggle/input/competitive-data-science-predict-future-sales/sample_submission.csv')"
   ]
  },
  {
   "cell_type": "markdown",
   "id": "c5b6cf10",
   "metadata": {
    "papermill": {
     "duration": 0.005595,
     "end_time": "2022-05-31T14:33:02.358552",
     "exception": false,
     "start_time": "2022-05-31T14:33:02.352957",
     "status": "completed"
    },
    "tags": []
   },
   "source": [
    "<a id=\"1\"></a> <br>\n",
    "# 3. Explore Data"
   ]
  },
  {
   "cell_type": "code",
   "execution_count": 4,
   "id": "2b266578",
   "metadata": {
    "execution": {
     "iopub.execute_input": "2022-05-31T14:33:02.371794Z",
     "iopub.status.busy": "2022-05-31T14:33:02.371419Z",
     "iopub.status.idle": "2022-05-31T14:33:02.396114Z",
     "shell.execute_reply": "2022-05-31T14:33:02.395293Z"
    },
    "papermill": {
     "duration": 0.033616,
     "end_time": "2022-05-31T14:33:02.398087",
     "exception": false,
     "start_time": "2022-05-31T14:33:02.364471",
     "status": "completed"
    },
    "tags": []
   },
   "outputs": [
    {
     "data": {
      "text/html": [
       "<div>\n",
       "<style scoped>\n",
       "    .dataframe tbody tr th:only-of-type {\n",
       "        vertical-align: middle;\n",
       "    }\n",
       "\n",
       "    .dataframe tbody tr th {\n",
       "        vertical-align: top;\n",
       "    }\n",
       "\n",
       "    .dataframe thead th {\n",
       "        text-align: right;\n",
       "    }\n",
       "</style>\n",
       "<table border=\"1\" class=\"dataframe\">\n",
       "  <thead>\n",
       "    <tr style=\"text-align: right;\">\n",
       "      <th></th>\n",
       "      <th>date</th>\n",
       "      <th>date_block_num</th>\n",
       "      <th>shop_id</th>\n",
       "      <th>item_id</th>\n",
       "      <th>item_price</th>\n",
       "      <th>item_cnt_day</th>\n",
       "    </tr>\n",
       "  </thead>\n",
       "  <tbody>\n",
       "    <tr>\n",
       "      <th>0</th>\n",
       "      <td>02.01.2013</td>\n",
       "      <td>0</td>\n",
       "      <td>59</td>\n",
       "      <td>22154</td>\n",
       "      <td>999.00</td>\n",
       "      <td>1.0</td>\n",
       "    </tr>\n",
       "    <tr>\n",
       "      <th>1</th>\n",
       "      <td>03.01.2013</td>\n",
       "      <td>0</td>\n",
       "      <td>25</td>\n",
       "      <td>2552</td>\n",
       "      <td>899.00</td>\n",
       "      <td>1.0</td>\n",
       "    </tr>\n",
       "    <tr>\n",
       "      <th>2</th>\n",
       "      <td>05.01.2013</td>\n",
       "      <td>0</td>\n",
       "      <td>25</td>\n",
       "      <td>2552</td>\n",
       "      <td>899.00</td>\n",
       "      <td>-1.0</td>\n",
       "    </tr>\n",
       "    <tr>\n",
       "      <th>3</th>\n",
       "      <td>06.01.2013</td>\n",
       "      <td>0</td>\n",
       "      <td>25</td>\n",
       "      <td>2554</td>\n",
       "      <td>1709.05</td>\n",
       "      <td>1.0</td>\n",
       "    </tr>\n",
       "    <tr>\n",
       "      <th>4</th>\n",
       "      <td>15.01.2013</td>\n",
       "      <td>0</td>\n",
       "      <td>25</td>\n",
       "      <td>2555</td>\n",
       "      <td>1099.00</td>\n",
       "      <td>1.0</td>\n",
       "    </tr>\n",
       "    <tr>\n",
       "      <th>...</th>\n",
       "      <td>...</td>\n",
       "      <td>...</td>\n",
       "      <td>...</td>\n",
       "      <td>...</td>\n",
       "      <td>...</td>\n",
       "      <td>...</td>\n",
       "    </tr>\n",
       "    <tr>\n",
       "      <th>2935844</th>\n",
       "      <td>10.10.2015</td>\n",
       "      <td>33</td>\n",
       "      <td>25</td>\n",
       "      <td>7409</td>\n",
       "      <td>299.00</td>\n",
       "      <td>1.0</td>\n",
       "    </tr>\n",
       "    <tr>\n",
       "      <th>2935845</th>\n",
       "      <td>09.10.2015</td>\n",
       "      <td>33</td>\n",
       "      <td>25</td>\n",
       "      <td>7460</td>\n",
       "      <td>299.00</td>\n",
       "      <td>1.0</td>\n",
       "    </tr>\n",
       "    <tr>\n",
       "      <th>2935846</th>\n",
       "      <td>14.10.2015</td>\n",
       "      <td>33</td>\n",
       "      <td>25</td>\n",
       "      <td>7459</td>\n",
       "      <td>349.00</td>\n",
       "      <td>1.0</td>\n",
       "    </tr>\n",
       "    <tr>\n",
       "      <th>2935847</th>\n",
       "      <td>22.10.2015</td>\n",
       "      <td>33</td>\n",
       "      <td>25</td>\n",
       "      <td>7440</td>\n",
       "      <td>299.00</td>\n",
       "      <td>1.0</td>\n",
       "    </tr>\n",
       "    <tr>\n",
       "      <th>2935848</th>\n",
       "      <td>03.10.2015</td>\n",
       "      <td>33</td>\n",
       "      <td>25</td>\n",
       "      <td>7460</td>\n",
       "      <td>299.00</td>\n",
       "      <td>1.0</td>\n",
       "    </tr>\n",
       "  </tbody>\n",
       "</table>\n",
       "<p>2935849 rows × 6 columns</p>\n",
       "</div>"
      ],
      "text/plain": [
       "               date  date_block_num  shop_id  item_id  item_price  \\\n",
       "0        02.01.2013               0       59    22154      999.00   \n",
       "1        03.01.2013               0       25     2552      899.00   \n",
       "2        05.01.2013               0       25     2552      899.00   \n",
       "3        06.01.2013               0       25     2554     1709.05   \n",
       "4        15.01.2013               0       25     2555     1099.00   \n",
       "...             ...             ...      ...      ...         ...   \n",
       "2935844  10.10.2015              33       25     7409      299.00   \n",
       "2935845  09.10.2015              33       25     7460      299.00   \n",
       "2935846  14.10.2015              33       25     7459      349.00   \n",
       "2935847  22.10.2015              33       25     7440      299.00   \n",
       "2935848  03.10.2015              33       25     7460      299.00   \n",
       "\n",
       "         item_cnt_day  \n",
       "0                 1.0  \n",
       "1                 1.0  \n",
       "2                -1.0  \n",
       "3                 1.0  \n",
       "4                 1.0  \n",
       "...               ...  \n",
       "2935844           1.0  \n",
       "2935845           1.0  \n",
       "2935846           1.0  \n",
       "2935847           1.0  \n",
       "2935848           1.0  \n",
       "\n",
       "[2935849 rows x 6 columns]"
      ]
     },
     "execution_count": 4,
     "metadata": {},
     "output_type": "execute_result"
    }
   ],
   "source": [
    "df_train"
   ]
  },
  {
   "cell_type": "code",
   "execution_count": 5,
   "id": "6a71017c",
   "metadata": {
    "execution": {
     "iopub.execute_input": "2022-05-31T14:33:02.413191Z",
     "iopub.status.busy": "2022-05-31T14:33:02.412122Z",
     "iopub.status.idle": "2022-05-31T14:33:02.436719Z",
     "shell.execute_reply": "2022-05-31T14:33:02.435716Z"
    },
    "papermill": {
     "duration": 0.034388,
     "end_time": "2022-05-31T14:33:02.438903",
     "exception": false,
     "start_time": "2022-05-31T14:33:02.404515",
     "status": "completed"
    },
    "tags": []
   },
   "outputs": [
    {
     "name": "stdout",
     "output_type": "stream",
     "text": [
      "<class 'pandas.core.frame.DataFrame'>\n",
      "RangeIndex: 2935849 entries, 0 to 2935848\n",
      "Data columns (total 6 columns):\n",
      " #   Column          Dtype  \n",
      "---  ------          -----  \n",
      " 0   date            object \n",
      " 1   date_block_num  int64  \n",
      " 2   shop_id         int64  \n",
      " 3   item_id         int64  \n",
      " 4   item_price      float64\n",
      " 5   item_cnt_day    float64\n",
      "dtypes: float64(2), int64(3), object(1)\n",
      "memory usage: 134.4+ MB\n"
     ]
    }
   ],
   "source": [
    "df_train.info()"
   ]
  },
  {
   "cell_type": "code",
   "execution_count": 6,
   "id": "f4491ff9",
   "metadata": {
    "execution": {
     "iopub.execute_input": "2022-05-31T14:33:02.453010Z",
     "iopub.status.busy": "2022-05-31T14:33:02.452593Z",
     "iopub.status.idle": "2022-05-31T14:33:02.603644Z",
     "shell.execute_reply": "2022-05-31T14:33:02.602692Z"
    },
    "papermill": {
     "duration": 0.160701,
     "end_time": "2022-05-31T14:33:02.605795",
     "exception": false,
     "start_time": "2022-05-31T14:33:02.445094",
     "status": "completed"
    },
    "tags": []
   },
   "outputs": [
    {
     "data": {
      "text/plain": [
       "date              0\n",
       "date_block_num    0\n",
       "shop_id           0\n",
       "item_id           0\n",
       "item_price        0\n",
       "item_cnt_day      0\n",
       "dtype: int64"
      ]
     },
     "execution_count": 6,
     "metadata": {},
     "output_type": "execute_result"
    }
   ],
   "source": [
    "df_train.isnull().sum()"
   ]
  },
  {
   "cell_type": "code",
   "execution_count": 7,
   "id": "50d5ca0b",
   "metadata": {
    "execution": {
     "iopub.execute_input": "2022-05-31T14:33:02.619758Z",
     "iopub.status.busy": "2022-05-31T14:33:02.619342Z",
     "iopub.status.idle": "2022-05-31T14:33:02.628258Z",
     "shell.execute_reply": "2022-05-31T14:33:02.627096Z"
    },
    "papermill": {
     "duration": 0.018428,
     "end_time": "2022-05-31T14:33:02.630409",
     "exception": false,
     "start_time": "2022-05-31T14:33:02.611981",
     "status": "completed"
    },
    "tags": []
   },
   "outputs": [
    {
     "data": {
      "text/plain": [
       "ID         0\n",
       "shop_id    0\n",
       "item_id    0\n",
       "dtype: int64"
      ]
     },
     "execution_count": 7,
     "metadata": {},
     "output_type": "execute_result"
    }
   ],
   "source": [
    "df_test.isnull().sum()"
   ]
  },
  {
   "cell_type": "markdown",
   "id": "1f52eae9",
   "metadata": {
    "papermill": {
     "duration": 0.006131,
     "end_time": "2022-05-31T14:33:02.643073",
     "exception": false,
     "start_time": "2022-05-31T14:33:02.636942",
     "status": "completed"
    },
    "tags": []
   },
   "source": [
    "We dont have any missing value on train & test data"
   ]
  },
  {
   "cell_type": "markdown",
   "id": "78874d63",
   "metadata": {
    "papermill": {
     "duration": 0.005948,
     "end_time": "2022-05-31T14:33:02.655634",
     "exception": false,
     "start_time": "2022-05-31T14:33:02.649686",
     "status": "completed"
    },
    "tags": []
   },
   "source": [
    "<a id=\"1\"></a> <br>\n",
    "# 4. Data Preprocessing"
   ]
  },
  {
   "cell_type": "markdown",
   "id": "3bb9a01c",
   "metadata": {
    "papermill": {
     "duration": 0.006058,
     "end_time": "2022-05-31T14:33:02.667907",
     "exception": false,
     "start_time": "2022-05-31T14:33:02.661849",
     "status": "completed"
    },
    "tags": []
   },
   "source": [
    "**** Find Outliers****"
   ]
  },
  {
   "cell_type": "code",
   "execution_count": 8,
   "id": "9aae6bc0",
   "metadata": {
    "execution": {
     "iopub.execute_input": "2022-05-31T14:33:02.682880Z",
     "iopub.status.busy": "2022-05-31T14:33:02.681712Z",
     "iopub.status.idle": "2022-05-31T14:33:03.634679Z",
     "shell.execute_reply": "2022-05-31T14:33:03.633708Z"
    },
    "papermill": {
     "duration": 0.962457,
     "end_time": "2022-05-31T14:33:03.636702",
     "exception": false,
     "start_time": "2022-05-31T14:33:02.674245",
     "status": "completed"
    },
    "tags": []
   },
   "outputs": [
    {
     "data": {
      "image/png": "[encoded data removed]",
      "text/plain": [
       "<Figure size 1296x432 with 2 Axes>"
      ]
     },
     "metadata": {
      "needs_background": "light"
     },
     "output_type": "display_data"
    }
   ],
   "source": [
    "fig, axes = plt.subplots(nrows=1,ncols=2,figsize=(18,6))\n",
    "# Find outliers in the columns df_train.'item_cnt_day',df_train.'item_price'\n",
    "cols = ['item_cnt_day','item_price']\n",
    "for i in range(len(cols)):\n",
    "    axes[i].boxplot(df_train[cols[i]])\n",
    "    axes[i].set_xlabel(cols[i])\n",
    "    axes[i].set_ylabel(\"Count\")\n",
    "       "
   ]
  },
  {
   "cell_type": "markdown",
   "id": "66ba8a6f",
   "metadata": {
    "papermill": {
     "duration": 0.006263,
     "end_time": "2022-05-31T14:33:03.649988",
     "exception": false,
     "start_time": "2022-05-31T14:33:03.643725",
     "status": "completed"
    },
    "tags": []
   },
   "source": [
    "**** Remove observed outliers****"
   ]
  },
  {
   "cell_type": "code",
   "execution_count": 9,
   "id": "afc08e19",
   "metadata": {
    "execution": {
     "iopub.execute_input": "2022-05-31T14:33:03.664954Z",
     "iopub.status.busy": "2022-05-31T14:33:03.664206Z",
     "iopub.status.idle": "2022-05-31T14:33:03.871578Z",
     "shell.execute_reply": "2022-05-31T14:33:03.870524Z"
    },
    "papermill": {
     "duration": 0.217324,
     "end_time": "2022-05-31T14:33:03.873917",
     "exception": false,
     "start_time": "2022-05-31T14:33:03.656593",
     "status": "completed"
    },
    "tags": []
   },
   "outputs": [],
   "source": [
    "# Remove Outliers\n",
    "outlier1 = df_train[df_train['item_cnt_day']>2000].index[0]\n",
    "outlier2 = df_train[df_train['item_price']>300000].index[0]\n",
    "df_train.drop([outlier1,outlier2],axis=0, inplace=True)\n",
    "\n",
    "# Reset index\n",
    "df_train.reset_index(inplace=True, drop=True)"
   ]
  },
  {
   "cell_type": "markdown",
   "id": "62679d6a",
   "metadata": {
    "papermill": {
     "duration": 0.006309,
     "end_time": "2022-05-31T14:33:03.886983",
     "exception": false,
     "start_time": "2022-05-31T14:33:03.880674",
     "status": "completed"
    },
    "tags": []
   },
   "source": [
    "****  Find Anomalies****"
   ]
  },
  {
   "cell_type": "code",
   "execution_count": 10,
   "id": "ce437e3b",
   "metadata": {
    "execution": {
     "iopub.execute_input": "2022-05-31T14:33:03.901937Z",
     "iopub.status.busy": "2022-05-31T14:33:03.901487Z",
     "iopub.status.idle": "2022-05-31T14:33:04.955405Z",
     "shell.execute_reply": "2022-05-31T14:33:04.954488Z"
    },
    "papermill": {
     "duration": 1.0635,
     "end_time": "2022-05-31T14:33:04.957213",
     "exception": false,
     "start_time": "2022-05-31T14:33:03.893713",
     "status": "completed"
    },
    "tags": []
   },
   "outputs": [
    {
     "data": {
      "image/png": "[encoded data removed]",
      "text/plain": [
       "<Figure size 1296x432 with 2 Axes>"
      ]
     },
     "metadata": {
      "needs_background": "light"
     },
     "output_type": "display_data"
    }
   ],
   "source": [
    "# Find anomalies in the columns df_train.'item_cnt_day',df_train.'item_price'\n",
    "cols = ['item_cnt_day','item_price']\n",
    "fig, ax = plt.subplots(ncols = len(cols), figsize = (18,6), sharex = True)\n",
    "fig.subplots_adjust(wspace=0.5)\n",
    "\n",
    "for i in range(len(cols)):\n",
    "  ax[i].plot(df_train[cols[i]])\n",
    "  ax[i].set_xlabel(cols[i])\n",
    "  ax[i].set_ylabel(\"Count\")"
   ]
  },
  {
   "cell_type": "markdown",
   "id": "1a88b07b",
   "metadata": {
    "papermill": {
     "duration": 0.007225,
     "end_time": "2022-05-31T14:33:04.971731",
     "exception": false,
     "start_time": "2022-05-31T14:33:04.964506",
     "status": "completed"
    },
    "tags": []
   },
   "source": [
    "\n",
    "\n",
    "Observations:\n",
    "\n",
    "Column 'item_cnt_day' has some negative values which could be items that were 'returned'. Since we will be considering monthly counts, we will leave the negative values in there so that we get a correct count of items sold when we aggregrate by month\n",
    "\n"
   ]
  },
  {
   "cell_type": "markdown",
   "id": "5747f125",
   "metadata": {
    "papermill": {
     "duration": 0.006959,
     "end_time": "2022-05-31T14:33:04.985940",
     "exception": false,
     "start_time": "2022-05-31T14:33:04.978981",
     "status": "completed"
    },
    "tags": []
   },
   "source": [
    "<a id=\"1\"></a> <br>\n",
    "# 5. Feature Engineering"
   ]
  },
  {
   "cell_type": "code",
   "execution_count": 11,
   "id": "015caba1",
   "metadata": {
    "execution": {
     "iopub.execute_input": "2022-05-31T14:33:05.003213Z",
     "iopub.status.busy": "2022-05-31T14:33:05.002129Z",
     "iopub.status.idle": "2022-05-31T14:33:06.460318Z",
     "shell.execute_reply": "2022-05-31T14:33:06.459187Z"
    },
    "papermill": {
     "duration": 1.469239,
     "end_time": "2022-05-31T14:33:06.462689",
     "exception": false,
     "start_time": "2022-05-31T14:33:04.993450",
     "status": "completed"
    },
    "tags": []
   },
   "outputs": [],
   "source": [
    "# Get maximum number in column 'date_block_num' representing the last month in data\n",
    "df_train_max_month = df_train.date_block_num.max()\n",
    "\n",
    "# Add column 'date_block_num' to the test dataset. The values would be sales_train_max_month + 1 representing next month\n",
    "df_test['date_block_num'] = df_train_max_month + 1\n",
    "\n",
    "# Create df_data table to concat modified df_train and df_test\n",
    "df_data = pd.concat([df_train,df_test]).reset_index(drop=True)\n",
    "\n",
    "# Create monthly sales data by aggregating on column 'item_cnt_day' and then rename column to 'item_cnt_month'\n",
    "monthly_sales = df_data.groupby(by = ['date_block_num','shop_id','item_id'], as_index=False).agg({'item_cnt_day':'sum'})\n",
    "\n",
    "monthly_sales = monthly_sales.rename(columns={'item_cnt_day':'item_cnt_month'})"
   ]
  },
  {
   "cell_type": "markdown",
   "id": "395fc021",
   "metadata": {
    "papermill": {
     "duration": 0.006864,
     "end_time": "2022-05-31T14:33:06.476782",
     "exception": false,
     "start_time": "2022-05-31T14:33:06.469918",
     "status": "completed"
    },
    "tags": []
   },
   "source": [
    "<a id=\"1\"></a> <br>\n",
    "# 6. Data Preparation"
   ]
  },
  {
   "cell_type": "code",
   "execution_count": 12,
   "id": "53ec1bc0",
   "metadata": {
    "execution": {
     "iopub.execute_input": "2022-05-31T14:33:06.492289Z",
     "iopub.status.busy": "2022-05-31T14:33:06.491898Z",
     "iopub.status.idle": "2022-05-31T14:33:06.550355Z",
     "shell.execute_reply": "2022-05-31T14:33:06.549393Z"
    },
    "papermill": {
     "duration": 0.068889,
     "end_time": "2022-05-31T14:33:06.552638",
     "exception": false,
     "start_time": "2022-05-31T14:33:06.483749",
     "status": "completed"
    },
    "tags": []
   },
   "outputs": [],
   "source": [
    "# The 'date_block_num' must be split as contiguos months of training data and validation data\n",
    "split_ratio = 0.8\n",
    "train_valid_split = np.floor(df_train_max_month * split_ratio)\n",
    "train_data = monthly_sales[monthly_sales['date_block_num'] <= train_valid_split]\n",
    "valid_data = monthly_sales[(monthly_sales['date_block_num'] > train_valid_split) & (monthly_sales['date_block_num'] < df_train_max_month + 1)]\n",
    "\n",
    "# Test data will be the 'date_block_num' is sales_train_max_month+1\n",
    "test_data = monthly_sales[monthly_sales['date_block_num'] == df_train_max_month+1]"
   ]
  },
  {
   "cell_type": "code",
   "execution_count": 13,
   "id": "7cb48251",
   "metadata": {
    "execution": {
     "iopub.execute_input": "2022-05-31T14:33:06.568617Z",
     "iopub.status.busy": "2022-05-31T14:33:06.568217Z",
     "iopub.status.idle": "2022-05-31T14:33:06.591950Z",
     "shell.execute_reply": "2022-05-31T14:33:06.591013Z"
    },
    "papermill": {
     "duration": 0.034301,
     "end_time": "2022-05-31T14:33:06.594086",
     "exception": false,
     "start_time": "2022-05-31T14:33:06.559785",
     "status": "completed"
    },
    "tags": []
   },
   "outputs": [],
   "source": [
    "# Create X and y variables for train, validation and test sets\n",
    "X_train = train_data.drop('item_cnt_month',axis=1)\n",
    "y_train = train_data['item_cnt_month']\n",
    "\n",
    "X_valid = valid_data.drop('item_cnt_month',axis=1)\n",
    "y_valid = valid_data['item_cnt_month']\n",
    "\n",
    "X_test = test_data.drop('item_cnt_month',axis=1)\n",
    "y_test = test_data['item_cnt_month']"
   ]
  },
  {
   "cell_type": "markdown",
   "id": "9b5c7aba",
   "metadata": {
    "papermill": {
     "duration": 0.007121,
     "end_time": "2022-05-31T14:33:06.608400",
     "exception": false,
     "start_time": "2022-05-31T14:33:06.601279",
     "status": "completed"
    },
    "tags": []
   },
   "source": [
    "<a id=\"1\"></a> <br>\n",
    "# 7. Modeling"
   ]
  },
  {
   "cell_type": "markdown",
   "id": "7d0b60e0",
   "metadata": {
    "papermill": {
     "duration": 0.006608,
     "end_time": "2022-05-31T14:33:06.622068",
     "exception": false,
     "start_time": "2022-05-31T14:33:06.615460",
     "status": "completed"
    },
    "tags": []
   },
   "source": [
    "For the modeling part we will compare 3 known Linear algorithms:\n",
    "\n",
    "1: LinearRegression\n",
    "\n",
    "2: Ridge\n",
    "\n",
    "3: Lasso"
   ]
  },
  {
   "cell_type": "code",
   "execution_count": 14,
   "id": "2eb1295b",
   "metadata": {
    "execution": {
     "iopub.execute_input": "2022-05-31T14:33:06.637748Z",
     "iopub.status.busy": "2022-05-31T14:33:06.637343Z",
     "iopub.status.idle": "2022-05-31T14:33:06.644623Z",
     "shell.execute_reply": "2022-05-31T14:33:06.643872Z"
    },
    "papermill": {
     "duration": 0.017564,
     "end_time": "2022-05-31T14:33:06.646633",
     "exception": false,
     "start_time": "2022-05-31T14:33:06.629069",
     "status": "completed"
    },
    "tags": []
   },
   "outputs": [],
   "source": [
    "# Regression Algorithms\n",
    "pipeline_LinearRegression = Pipeline([('LinearRegression_Regression',LinearRegression())])\n",
    "pipeline_Ridge = Pipeline([('Ridge_Regression',Ridge(alpha=0.1))])\n",
    "pipeline_Lasso = Pipeline([('Lasso_Regression',Lasso(alpha=0.01))])\n",
    "\n",
    "pipelines = [pipeline_LinearRegression,pipeline_Ridge,pipeline_Lasso]\n",
    "pipe_dict = {0:'LinearRegression',1:'Ridge',2:'Lasso'}"
   ]
  },
  {
   "cell_type": "code",
   "execution_count": 15,
   "id": "8bc9904c",
   "metadata": {
    "execution": {
     "iopub.execute_input": "2022-05-31T14:33:06.663600Z",
     "iopub.status.busy": "2022-05-31T14:33:06.662495Z",
     "iopub.status.idle": "2022-05-31T14:33:06.982457Z",
     "shell.execute_reply": "2022-05-31T14:33:06.981103Z"
    },
    "papermill": {
     "duration": 0.332936,
     "end_time": "2022-05-31T14:33:06.987037",
     "exception": false,
     "start_time": "2022-05-31T14:33:06.654101",
     "status": "completed"
    },
    "tags": []
   },
   "outputs": [],
   "source": [
    "# Fit Model\n",
    "for pipe in pipelines:\n",
    "    pipe.fit(X_train,y_train)"
   ]
  },
  {
   "cell_type": "code",
   "execution_count": 16,
   "id": "8226de75",
   "metadata": {
    "execution": {
     "iopub.execute_input": "2022-05-31T14:33:07.019733Z",
     "iopub.status.busy": "2022-05-31T14:33:07.019066Z",
     "iopub.status.idle": "2022-05-31T14:33:07.251783Z",
     "shell.execute_reply": "2022-05-31T14:33:07.250695Z"
    },
    "papermill": {
     "duration": 0.252239,
     "end_time": "2022-05-31T14:33:07.255323",
     "exception": false,
     "start_time": "2022-05-31T14:33:07.003084",
     "status": "completed"
    },
    "tags": []
   },
   "outputs": [
    {
     "name": "stdout",
     "output_type": "stream",
     "text": [
      "LinearRegression Root Mean Square Train Data = 8.155689348548888\n",
      "LinearRegression Root Mean Square Validation Data = 10.16685419201607\n",
      "\n",
      "Ridge Root Mean Square Train Data = 8.155689348548888\n",
      "Ridge Root Mean Square Validation Data = 10.166854192010785\n",
      "\n",
      "Lasso Root Mean Square Train Data = 8.155689467887909\n",
      "Lasso Root Mean Square Validation Data = 10.166769982775508\n",
      "\n"
     ]
    }
   ],
   "source": [
    "# Use model to Predict labels for validation and test sets \n",
    "for i,model in enumerate(pipelines):\n",
    "    train_pred =  model.predict(X_train)\n",
    "    valid_pred = model.predict(X_valid)\n",
    "    test_pred = model.predict(X_test)\n",
    "    # Error metrics\n",
    "    print('{} Root Mean Square Train Data = {}'.format(pipe_dict[i],np.sqrt(mean_squared_error(y_train,train_pred))))\n",
    "    print('{} Root Mean Square Validation Data = {}\\n'.format(pipe_dict[i],np.sqrt(mean_squared_error(y_valid,valid_pred)))) "
   ]
  },
  {
   "cell_type": "code",
   "execution_count": 17,
   "id": "03c50051",
   "metadata": {
    "execution": {
     "iopub.execute_input": "2022-05-31T14:33:07.286506Z",
     "iopub.status.busy": "2022-05-31T14:33:07.285939Z",
     "iopub.status.idle": "2022-05-31T14:33:07.306647Z",
     "shell.execute_reply": "2022-05-31T14:33:07.305711Z"
    },
    "papermill": {
     "duration": 0.039163,
     "end_time": "2022-05-31T14:33:07.309450",
     "exception": false,
     "start_time": "2022-05-31T14:33:07.270287",
     "status": "completed"
    },
    "tags": []
   },
   "outputs": [
    {
     "name": "stdout",
     "output_type": "stream",
     "text": [
      "Root Mean Square Train Data = 8.155689467887909\n",
      "Root Mean Square Validation Data = 10.166769982775508\n"
     ]
    }
   ],
   "source": [
    "# Error metrics\n",
    "print('Root Mean Square Train Data = {}'.format(np.sqrt(mean_squared_error(y_train,train_pred))))\n",
    "print('Root Mean Square Validation Data = {}'.format(np.sqrt(mean_squared_error(y_valid,valid_pred)))) "
   ]
  },
  {
   "cell_type": "markdown",
   "id": "9f24c605",
   "metadata": {
    "papermill": {
     "duration": 0.014103,
     "end_time": "2022-05-31T14:33:07.337890",
     "exception": false,
     "start_time": "2022-05-31T14:33:07.323787",
     "status": "completed"
    },
    "tags": []
   },
   "source": [
    "Submit Predictions"
   ]
  },
  {
   "cell_type": "code",
   "execution_count": 18,
   "id": "7c65214f",
   "metadata": {
    "execution": {
     "iopub.execute_input": "2022-05-31T14:33:07.361985Z",
     "iopub.status.busy": "2022-05-31T14:33:07.361599Z",
     "iopub.status.idle": "2022-05-31T14:33:07.898574Z",
     "shell.execute_reply": "2022-05-31T14:33:07.897625Z"
    },
    "papermill": {
     "duration": 0.548544,
     "end_time": "2022-05-31T14:33:07.900877",
     "exception": false,
     "start_time": "2022-05-31T14:33:07.352333",
     "status": "completed"
    },
    "tags": []
   },
   "outputs": [],
   "source": [
    "submission = pd.DataFrame(df_test['ID'])\n",
    "submission['item_cnt_month'] = pipeline_LinearRegression.predict(X_test)\n",
    "submission.to_csv('submission.csv',index=False)"
   ]
  }
 ],
 "metadata": {
  "kernelspec": {
   "display_name": "Python 3",
   "language": "python",
   "name": "python3"
  },
  "language_info": {
   "codemirror_mode": {
    "name": "ipython",
    "version": 3
   },
   "file_extension": ".py",
   "mimetype": "text/x-python",
   "name": "python",
   "nbconvert_exporter": "python",
   "pygments_lexer": "ipython3",
   "version": "3.7.12"
  },
  "papermill": {
   "default_parameters": {},
   "duration": 18.983627,
   "end_time": "2022-05-31T14:33:08.628634",
   "environment_variables": {},
   "exception": null,
   "input_path": "__notebook__.ipynb",
   "output_path": "__notebook__.ipynb",
   "parameters": {},
   "start_time": "2022-05-31T14:32:49.645007",
   "version": "2.3.4"
  }
 },
 "nbformat": 4,
 "nbformat_minor": 5
}
